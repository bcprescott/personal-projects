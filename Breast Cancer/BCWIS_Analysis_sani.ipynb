{
  "nbformat": 4,
  "nbformat_minor": 0,
  "metadata": {
    "colab": {
      "provenance": [],
      "toc_visible": true
    },
    "kernelspec": {
      "name": "python3",
      "display_name": "Python 3"
    },
    "language_info": {
      "name": "python"
    }
  },
  "cells": [
    {
      "cell_type": "code",
      "source": [
        "import psycopg2\n",
        "import psycopg2.extras as extras\n",
        "import numpy as np\n",
        "import pandas as pd\n",
        "from sklearn.model_selection import StratifiedKFold\n",
        "from sklearn.ensemble import RandomForestClassifier\n",
        "from sklearn import metrics"
      ],
      "metadata": {
        "id": "iS6KL2pPdZJW"
      },
      "execution_count": 103,
      "outputs": []
    },
    {
      "cell_type": "markdown",
      "source": [
        "## Connect to RDS and Query Data"
      ],
      "metadata": {
        "id": "GkcsTfNN32QQ"
      }
    },
    {
      "cell_type": "code",
      "source": [
        "conn = psycopg2.connect(\n",
        "    \n",
        "    host=\"host\",\n",
        "    database=\"db\",\n",
        "    user=\"user\",\n",
        "    password=\"password\" \n",
        ")\n",
        "\n",
        "cur = conn.cursor()\n",
        "cur.execute('''\n",
        "\n",
        "            SELECT \n",
        "              s.*, r.diagnosis\n",
        "            FROM  \n",
        "              bcwis.samples s\n",
        "            INNER JOIN \n",
        "              bcwis.results r\n",
        "            ON \n",
        "              s.id = r.id\n",
        "\n",
        "            ''')\n",
        "results = cur.fetchall()\n",
        "features = [desc[0] for desc in cur.description]\n",
        "conn.close()"
      ],
      "metadata": {
        "id": "ZMSgMcTueE_I"
      },
      "execution_count": 10,
      "outputs": []
    },
    {
      "cell_type": "markdown",
      "source": [
        "## Convert Query Results to Pandas DataFrame"
      ],
      "metadata": {
        "id": "A9Z5FhKh352p"
      }
    },
    {
      "cell_type": "code",
      "source": [
        "df = pd.DataFrame(results, columns=features)"
      ],
      "metadata": {
        "id": "eU54jC-0eaca"
      },
      "execution_count": 12,
      "outputs": []
    },
    {
      "cell_type": "markdown",
      "source": [
        "### Check Class Balance"
      ],
      "metadata": {
        "id": "3ofx3fTW3_aJ"
      }
    },
    {
      "cell_type": "code",
      "source": [
        "df['diagnosis'].value_counts()"
      ],
      "metadata": {
        "colab": {
          "base_uri": "https://localhost:8080/"
        },
        "id": "17iS351BkvUX",
        "outputId": "fe726622-14d4-47cb-9e22-cf2c0c2a2833"
      },
      "execution_count": 16,
      "outputs": [
        {
          "output_type": "execute_result",
          "data": {
            "text/plain": [
              "B    357\n",
              "M    212\n",
              "Name: diagnosis, dtype: int64"
            ]
          },
          "metadata": {},
          "execution_count": 16
        }
      ]
    },
    {
      "cell_type": "markdown",
      "source": [
        "### Split into X and y"
      ],
      "metadata": {
        "id": "Ib5Y-84f4HKL"
      }
    },
    {
      "cell_type": "code",
      "source": [
        "X = df.iloc[:,1:-1].values\n",
        "\n",
        "y = df.iloc[:,-1].values"
      ],
      "metadata": {
        "id": "huyG11-bkk-3"
      },
      "execution_count": 64,
      "outputs": []
    },
    {
      "cell_type": "markdown",
      "source": [
        "### Stratified Kfold Splits\n",
        "\n",
        "Helps in handling the imbalanced data for training."
      ],
      "metadata": {
        "id": "QfjPbrkH4Lg0"
      }
    },
    {
      "cell_type": "code",
      "source": [
        "kfold = StratifiedKFold(n_splits=5, shuffle=True, random_state=1)\n",
        "\n",
        "for train_ix, test_ix in kfold.split(X, y):\n",
        "\t# select rows\n",
        "\ttrain_X, test_X = X[train_ix], X[test_ix]\n",
        "\ttrain_y, test_y = y[train_ix], y[test_ix]\n",
        "\t# # summarize train and test composition\n",
        "\ttrain_0, train_1 = len(train_y[train_y=='M']), len(train_y[train_y=='B'])\n",
        "\ttest_0, test_1 = len(test_y[test_y=='M']), len(test_y[test_y=='B'])\n",
        "\tprint('>Train: M=%d, B=%d, Test: M=%d, B=%d' % (train_0, train_1, test_0, test_1))"
      ],
      "metadata": {
        "colab": {
          "base_uri": "https://localhost:8080/"
        },
        "id": "hHmiaGRSm3Zj",
        "outputId": "375da125-1d97-42d1-d2a7-614b19ab88f5"
      },
      "execution_count": 70,
      "outputs": [
        {
          "output_type": "stream",
          "name": "stdout",
          "text": [
            ">Train: M=169, B=286, Test: M=43, B=71\n",
            ">Train: M=169, B=286, Test: M=43, B=71\n",
            ">Train: M=170, B=285, Test: M=42, B=72\n",
            ">Train: M=170, B=285, Test: M=42, B=72\n",
            ">Train: M=170, B=286, Test: M=42, B=71\n"
          ]
        }
      ]
    },
    {
      "cell_type": "markdown",
      "source": [
        "## Fit a Random Forest Classifier"
      ],
      "metadata": {
        "id": "V9W3Chf04WAt"
      }
    },
    {
      "cell_type": "code",
      "source": [
        "rfc = RandomForestClassifier(max_depth=2, random_state=0)\n",
        "rfc.fit(train_X, train_y)"
      ],
      "metadata": {
        "colab": {
          "base_uri": "https://localhost:8080/"
        },
        "id": "RdVJkkwynhf4",
        "outputId": "e25a0167-2efd-4e1e-f6b0-769212d99a0f"
      },
      "execution_count": 71,
      "outputs": [
        {
          "output_type": "execute_result",
          "data": {
            "text/plain": [
              "RandomForestClassifier(max_depth=2, random_state=0)"
            ]
          },
          "metadata": {},
          "execution_count": 71
        }
      ]
    },
    {
      "cell_type": "markdown",
      "source": [
        "## Predict Classes for Test Set"
      ],
      "metadata": {
        "id": "2ussYUTF4YvU"
      }
    },
    {
      "cell_type": "code",
      "source": [
        "predictions = rfc.predict(test_X)"
      ],
      "metadata": {
        "id": "otSRKYTwnhFV"
      },
      "execution_count": 80,
      "outputs": []
    },
    {
      "cell_type": "markdown",
      "source": [
        "## Predict All Samples and Probabilities"
      ],
      "metadata": {
        "id": "O8Xk57lJ4qR3"
      }
    },
    {
      "cell_type": "code",
      "source": [
        "totalpredictions = rfc.predict(df.iloc[:,1:-1].values)\n",
        "probabilities = np.max(np.round(rfc.predict_proba(df.iloc[:,1:-1].values),2), axis=1)"
      ],
      "metadata": {
        "id": "FAltgrL_q3AC"
      },
      "execution_count": 129,
      "outputs": []
    },
    {
      "cell_type": "code",
      "source": [
        "resultdf = pd.DataFrame(np.column_stack([df['id'],df['diagnosis'],totalpredictions,probabilities]), columns=['id','diagnosis','prediction','probability'])\n",
        "resultdf['correct'] = (resultdf['diagnosis'] == resultdf['prediction']) \n",
        "resultdf['algorithm'] = 'Random Forest Classifier'\n",
        "resultdf"
      ],
      "metadata": {
        "colab": {
          "base_uri": "https://localhost:8080/",
          "height": 424
        },
        "id": "yEPc-xQWq91B",
        "outputId": "2612c6e8-eef7-44f2-a522-56a2638e59cd"
      },
      "execution_count": 131,
      "outputs": [
        {
          "output_type": "execute_result",
          "data": {
            "text/plain": [
              "           id diagnosis prediction probability  correct  \\\n",
              "0      842302         M          M        0.91     True   \n",
              "1      842517         M          M        0.92     True   \n",
              "2    84300903         M          M        0.98     True   \n",
              "3    84348301         M          M        0.63     True   \n",
              "4    84358402         M          M        0.93     True   \n",
              "..        ...       ...        ...         ...      ...   \n",
              "564    926424         M          M        0.98     True   \n",
              "565    926682         M          M        0.97     True   \n",
              "566    926954         M          M        0.87     True   \n",
              "567    927241         M          M        0.98     True   \n",
              "568     92751         B          B        0.96     True   \n",
              "\n",
              "                    algorithm  \n",
              "0    Random Forest Classifier  \n",
              "1    Random Forest Classifier  \n",
              "2    Random Forest Classifier  \n",
              "3    Random Forest Classifier  \n",
              "4    Random Forest Classifier  \n",
              "..                        ...  \n",
              "564  Random Forest Classifier  \n",
              "565  Random Forest Classifier  \n",
              "566  Random Forest Classifier  \n",
              "567  Random Forest Classifier  \n",
              "568  Random Forest Classifier  \n",
              "\n",
              "[569 rows x 6 columns]"
            ],
            "text/html": [
              "\n",
              "  <div id=\"df-4afa593c-f414-4f33-8cec-1d6d85dc2dae\">\n",
              "    <div class=\"colab-df-container\">\n",
              "      <div>\n",
              "<style scoped>\n",
              "    .dataframe tbody tr th:only-of-type {\n",
              "        vertical-align: middle;\n",
              "    }\n",
              "\n",
              "    .dataframe tbody tr th {\n",
              "        vertical-align: top;\n",
              "    }\n",
              "\n",
              "    .dataframe thead th {\n",
              "        text-align: right;\n",
              "    }\n",
              "</style>\n",
              "<table border=\"1\" class=\"dataframe\">\n",
              "  <thead>\n",
              "    <tr style=\"text-align: right;\">\n",
              "      <th></th>\n",
              "      <th>id</th>\n",
              "      <th>diagnosis</th>\n",
              "      <th>prediction</th>\n",
              "      <th>probability</th>\n",
              "      <th>correct</th>\n",
              "      <th>algorithm</th>\n",
              "    </tr>\n",
              "  </thead>\n",
              "  <tbody>\n",
              "    <tr>\n",
              "      <th>0</th>\n",
              "      <td>842302</td>\n",
              "      <td>M</td>\n",
              "      <td>M</td>\n",
              "      <td>0.91</td>\n",
              "      <td>True</td>\n",
              "      <td>Random Forest Classifier</td>\n",
              "    </tr>\n",
              "    <tr>\n",
              "      <th>1</th>\n",
              "      <td>842517</td>\n",
              "      <td>M</td>\n",
              "      <td>M</td>\n",
              "      <td>0.92</td>\n",
              "      <td>True</td>\n",
              "      <td>Random Forest Classifier</td>\n",
              "    </tr>\n",
              "    <tr>\n",
              "      <th>2</th>\n",
              "      <td>84300903</td>\n",
              "      <td>M</td>\n",
              "      <td>M</td>\n",
              "      <td>0.98</td>\n",
              "      <td>True</td>\n",
              "      <td>Random Forest Classifier</td>\n",
              "    </tr>\n",
              "    <tr>\n",
              "      <th>3</th>\n",
              "      <td>84348301</td>\n",
              "      <td>M</td>\n",
              "      <td>M</td>\n",
              "      <td>0.63</td>\n",
              "      <td>True</td>\n",
              "      <td>Random Forest Classifier</td>\n",
              "    </tr>\n",
              "    <tr>\n",
              "      <th>4</th>\n",
              "      <td>84358402</td>\n",
              "      <td>M</td>\n",
              "      <td>M</td>\n",
              "      <td>0.93</td>\n",
              "      <td>True</td>\n",
              "      <td>Random Forest Classifier</td>\n",
              "    </tr>\n",
              "    <tr>\n",
              "      <th>...</th>\n",
              "      <td>...</td>\n",
              "      <td>...</td>\n",
              "      <td>...</td>\n",
              "      <td>...</td>\n",
              "      <td>...</td>\n",
              "      <td>...</td>\n",
              "    </tr>\n",
              "    <tr>\n",
              "      <th>564</th>\n",
              "      <td>926424</td>\n",
              "      <td>M</td>\n",
              "      <td>M</td>\n",
              "      <td>0.98</td>\n",
              "      <td>True</td>\n",
              "      <td>Random Forest Classifier</td>\n",
              "    </tr>\n",
              "    <tr>\n",
              "      <th>565</th>\n",
              "      <td>926682</td>\n",
              "      <td>M</td>\n",
              "      <td>M</td>\n",
              "      <td>0.97</td>\n",
              "      <td>True</td>\n",
              "      <td>Random Forest Classifier</td>\n",
              "    </tr>\n",
              "    <tr>\n",
              "      <th>566</th>\n",
              "      <td>926954</td>\n",
              "      <td>M</td>\n",
              "      <td>M</td>\n",
              "      <td>0.87</td>\n",
              "      <td>True</td>\n",
              "      <td>Random Forest Classifier</td>\n",
              "    </tr>\n",
              "    <tr>\n",
              "      <th>567</th>\n",
              "      <td>927241</td>\n",
              "      <td>M</td>\n",
              "      <td>M</td>\n",
              "      <td>0.98</td>\n",
              "      <td>True</td>\n",
              "      <td>Random Forest Classifier</td>\n",
              "    </tr>\n",
              "    <tr>\n",
              "      <th>568</th>\n",
              "      <td>92751</td>\n",
              "      <td>B</td>\n",
              "      <td>B</td>\n",
              "      <td>0.96</td>\n",
              "      <td>True</td>\n",
              "      <td>Random Forest Classifier</td>\n",
              "    </tr>\n",
              "  </tbody>\n",
              "</table>\n",
              "<p>569 rows × 6 columns</p>\n",
              "</div>\n",
              "      <button class=\"colab-df-convert\" onclick=\"convertToInteractive('df-4afa593c-f414-4f33-8cec-1d6d85dc2dae')\"\n",
              "              title=\"Convert this dataframe to an interactive table.\"\n",
              "              style=\"display:none;\">\n",
              "        \n",
              "  <svg xmlns=\"http://www.w3.org/2000/svg\" height=\"24px\"viewBox=\"0 0 24 24\"\n",
              "       width=\"24px\">\n",
              "    <path d=\"M0 0h24v24H0V0z\" fill=\"none\"/>\n",
              "    <path d=\"M18.56 5.44l.94 2.06.94-2.06 2.06-.94-2.06-.94-.94-2.06-.94 2.06-2.06.94zm-11 1L8.5 8.5l.94-2.06 2.06-.94-2.06-.94L8.5 2.5l-.94 2.06-2.06.94zm10 10l.94 2.06.94-2.06 2.06-.94-2.06-.94-.94-2.06-.94 2.06-2.06.94z\"/><path d=\"M17.41 7.96l-1.37-1.37c-.4-.4-.92-.59-1.43-.59-.52 0-1.04.2-1.43.59L10.3 9.45l-7.72 7.72c-.78.78-.78 2.05 0 2.83L4 21.41c.39.39.9.59 1.41.59.51 0 1.02-.2 1.41-.59l7.78-7.78 2.81-2.81c.8-.78.8-2.07 0-2.86zM5.41 20L4 18.59l7.72-7.72 1.47 1.35L5.41 20z\"/>\n",
              "  </svg>\n",
              "      </button>\n",
              "      \n",
              "  <style>\n",
              "    .colab-df-container {\n",
              "      display:flex;\n",
              "      flex-wrap:wrap;\n",
              "      gap: 12px;\n",
              "    }\n",
              "\n",
              "    .colab-df-convert {\n",
              "      background-color: #E8F0FE;\n",
              "      border: none;\n",
              "      border-radius: 50%;\n",
              "      cursor: pointer;\n",
              "      display: none;\n",
              "      fill: #1967D2;\n",
              "      height: 32px;\n",
              "      padding: 0 0 0 0;\n",
              "      width: 32px;\n",
              "    }\n",
              "\n",
              "    .colab-df-convert:hover {\n",
              "      background-color: #E2EBFA;\n",
              "      box-shadow: 0px 1px 2px rgba(60, 64, 67, 0.3), 0px 1px 3px 1px rgba(60, 64, 67, 0.15);\n",
              "      fill: #174EA6;\n",
              "    }\n",
              "\n",
              "    [theme=dark] .colab-df-convert {\n",
              "      background-color: #3B4455;\n",
              "      fill: #D2E3FC;\n",
              "    }\n",
              "\n",
              "    [theme=dark] .colab-df-convert:hover {\n",
              "      background-color: #434B5C;\n",
              "      box-shadow: 0px 1px 3px 1px rgba(0, 0, 0, 0.15);\n",
              "      filter: drop-shadow(0px 1px 2px rgba(0, 0, 0, 0.3));\n",
              "      fill: #FFFFFF;\n",
              "    }\n",
              "  </style>\n",
              "\n",
              "      <script>\n",
              "        const buttonEl =\n",
              "          document.querySelector('#df-4afa593c-f414-4f33-8cec-1d6d85dc2dae button.colab-df-convert');\n",
              "        buttonEl.style.display =\n",
              "          google.colab.kernel.accessAllowed ? 'block' : 'none';\n",
              "\n",
              "        async function convertToInteractive(key) {\n",
              "          const element = document.querySelector('#df-4afa593c-f414-4f33-8cec-1d6d85dc2dae');\n",
              "          const dataTable =\n",
              "            await google.colab.kernel.invokeFunction('convertToInteractive',\n",
              "                                                     [key], {});\n",
              "          if (!dataTable) return;\n",
              "\n",
              "          const docLinkHtml = 'Like what you see? Visit the ' +\n",
              "            '<a target=\"_blank\" href=https://colab.research.google.com/notebooks/data_table.ipynb>data table notebook</a>'\n",
              "            + ' to learn more about interactive tables.';\n",
              "          element.innerHTML = '';\n",
              "          dataTable['output_type'] = 'display_data';\n",
              "          await google.colab.output.renderOutput(dataTable, element);\n",
              "          const docLink = document.createElement('div');\n",
              "          docLink.innerHTML = docLinkHtml;\n",
              "          element.appendChild(docLink);\n",
              "        }\n",
              "      </script>\n",
              "    </div>\n",
              "  </div>\n",
              "  "
            ]
          },
          "metadata": {},
          "execution_count": 131
        }
      ]
    },
    {
      "cell_type": "markdown",
      "source": [
        "### Write Prediction Results Back to RDS"
      ],
      "metadata": {
        "id": "mU5p2LFR3qf9"
      }
    },
    {
      "cell_type": "code",
      "source": [
        "tuples = [tuple(x) for x in resultdf.to_numpy()]\n",
        "query = \"INSERT INTO %s(%s) VALUES %%s\" % ('bcwis.prediction_results', 'id,ground_truth,prediction,probability,correct,algorithm')\n",
        "\n",
        "conn = psycopg2.connect(\n",
        "    \n",
        "    host=\"host\",\n",
        "    database=\"db\",\n",
        "    user=\"user\",\n",
        "    password=\"pass\" \n",
        ")\n",
        "\n",
        "cursor = conn.cursor()\n",
        "extras.execute_values(cursor, query, tuples)\n",
        "conn.commit()\n",
        "cursor.close()"
      ],
      "metadata": {
        "id": "qd2MN1tmtUJp"
      },
      "execution_count": 132,
      "outputs": []
    },
    {
      "cell_type": "markdown",
      "source": [
        "### Write Algo/Experiment Details to RDS"
      ],
      "metadata": {
        "id": "2hkIYdci3t3f"
      }
    },
    {
      "cell_type": "code",
      "source": [
        "algorithm = 'Random Forest Classifier'\n",
        "accuracy = round(metrics.accuracy_score(test_y, predictions),3)\n",
        "notes = 'Stratified Kfold with 5 folds was used to support the class imbalance. Standard SK Learn random forest classifier with depth of two.'\n",
        "\n",
        "modeltuple = [tuple(np.array([algorithm,accuracy,notes]))]\n",
        "\n",
        "query = \"INSERT INTO %s(%s) VALUES %%s\" % ('bcwis.algo_details', 'algorithm,accuracy,notes')\n",
        "\n",
        "conn = psycopg2.connect(\n",
        "    \n",
        "    host=\"host\",\n",
        "    database=\"db\",\n",
        "    user=\"user\",\n",
        "    password=\"pass\" \n",
        ")\n",
        "\n",
        "cursor = conn.cursor()\n",
        "extras.execute_values(cursor, query, modeltuple)\n",
        "conn.commit()\n",
        "cursor.close()"
      ],
      "metadata": {
        "id": "_mhyMlIKypR9"
      },
      "execution_count": 143,
      "outputs": []
    },
    {
      "cell_type": "code",
      "source": [],
      "metadata": {
        "id": "Cx2oyzha1QdR"
      },
      "execution_count": null,
      "outputs": []
    }
  ]
}
